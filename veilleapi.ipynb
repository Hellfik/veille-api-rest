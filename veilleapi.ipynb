{
  "nbformat": 4,
  "nbformat_minor": 0,
  "metadata": {
    "colab": {
      "name": "veilleapi.ipynb",
      "provenance": [],
      "toc_visible": true,
      "authorship_tag": "ABX9TyOesstMBXpO4NlT4lxwF8Pr",
      "include_colab_link": true
    },
    "kernelspec": {
      "name": "python3",
      "display_name": "Python 3"
    },
    "language_info": {
      "name": "python"
    }
  },
  "cells": [
    {
      "cell_type": "markdown",
      "metadata": {
        "id": "view-in-github",
        "colab_type": "text"
      },
      "source": [
        "<a href=\"https://colab.research.google.com/github/Hellfik/veille-api-rest/blob/main/veilleapi.ipynb\" target=\"_parent\"><img src=\"https://colab.research.google.com/assets/colab-badge.svg\" alt=\"Open In Colab\"/></a>"
      ]
    },
    {
      "cell_type": "markdown",
      "metadata": {
        "id": "5B9pBxhPozeU"
      },
      "source": [
        "# Veille technologique sur les API REST"
      ]
    },
    {
      "cell_type": "markdown",
      "metadata": {
        "id": "mWXC6jw4pVZE"
      },
      "source": [
        "## Qu'est'ce que HTTP ?"
      ]
    },
    {
      "cell_type": "markdown",
      "metadata": {
        "id": "JHEwSzBqpcNo"
      },
      "source": [
        "L'http, ou l'Hypertext Transfer Protocole est un **protocole de communication** client-serveur développé pour le World Wide Web. On retrouve l'HTTPS qui est la variante **sécurisée** par l'usage des protocoles Transport Layers Security (TLS)."
      ]
    },
    {
      "cell_type": "markdown",
      "metadata": {
        "id": "1DB--a7XuG7d"
      },
      "source": [
        "## Qu'est-ce qu'une API ?"
      ]
    },
    {
      "cell_type": "markdown",
      "metadata": {
        "id": "VWlrFb6YuO16"
      },
      "source": [
        "Une API ou Application Programming Interface permet de rendre disponibles les données ou les fonctionnalités d'une application existante afin que d'autres applications les utilisent. Elles agissent comme un intermediaire qui transmet des messages à travers un système de requêtes et de réponses.\n",
        "Les API permettent de communiquer des données.\n",
        "\n",
        "* Elles donnent un moyen d’accès aux données de façon réutilisable et standardisée.\n",
        "\n",
        "* Les développeurs peuvent utiliser des API publiques et privées.\n",
        "\n",
        "* Les API publiques sont utilisables par tous sans restriction.\n",
        "\n",
        "* Les API privées sont utilisables seulement par ceux qui ont un accès et y sont autorisés"
      ]
    },
    {
      "cell_type": "markdown",
      "metadata": {
        "id": "lYkqbvQJv4bo"
      },
      "source": [
        "## Qu'elle est la spécificité des API REST ?"
      ]
    },
    {
      "cell_type": "markdown",
      "metadata": {
        "id": "EdrW44FPze4J"
      },
      "source": [
        "Une API REST ou Application Programming Interface Representational State Transfer possède de nombreux avantages et constitue un ensemble de normes, ou de lignes directrices architecturales qui structurent la façon de communiquer les données entre votre application et le reste du monde, ou entre différents composants de votre application.\n",
        "\n",
        "Les API RESTful se basent sur le protocole HTTP pour transférer les informations – le même protocole sur lequel la communication web est fondée !\n",
        "\n",
        "* L’une des normes de REST est la séparation du client et du serveur. Le client est celui qui va utiliser l’API et le serveur est un ordinateur distant capable de récupérer des données depuis la base de données, de les manipuler si besoin et de les renvoyer à l’API.\n",
        "\n",
        "* L’un des autres aspects uniques des API REST est qu’elles sont stateless – sans état, en français – ce qui signifie que le serveur ne sauvegarde aucune des requêtes ou réponses précédentes.\n",
        "\n",
        "* Les données peuvent être mises en cache afin d'éviter d'effectuer deux fois la même requête si les données n'ont pas changées.\n",
        "\n",
        "* Les API REST partagent tous une interface uniforme ce qui permet de communiquer entre elles même si elles sont totalement différentes.\n",
        "\n",
        "* Les API REST possèdent un système de couches qui permet aux développeurs de créer des composants indépendants afin de faciliter leur mise à jour ou leur remplacement.\n",
        "\n",
        "* Elles ont aussi la possibilité d'entendre leurs fonctionnalités en envoyant le code au client pour téléchargement (facultatif)\n",
        "\n"
      ]
    },
    {
      "cell_type": "markdown",
      "metadata": {
        "id": "1_6yG4774Bdf"
      },
      "source": [
        "## Qu'est-ce qu'un URI, un endpoint, une opération ?"
      ]
    },
    {
      "cell_type": "markdown",
      "metadata": {
        "id": "HStBencs4Sey"
      },
      "source": [
        "Le « Uniform Resource Identifier » (URI) permet d’identifier les ressources abstraites ou physiques sur internet. Le type de ressource que l’URI représente peut varier en fonction de la situation. Les URI peuvent par exemple identifier des sites Web, tout comme ils peuvent identifier des expéditeurs ou des destinataires de courriels. Les applications utilisent un identifiant unique pour pouvoir interagir avec une ressource ou pour consulter les données d’une ressource.\n",
        "\n",
        "Endpoint exemple : \n",
        "/this-is-an-endpoint\n",
        "\n",
        "Opérations :\n",
        "POST\n",
        "GET\n",
        "PUT\n",
        "DELETE"
      ]
    },
    {
      "cell_type": "markdown",
      "metadata": {
        "id": "4Jg0N-kR6WyW"
      },
      "source": [
        "## Que trouve t-on dans la documentation d'une API REST ?"
      ]
    },
    {
      "cell_type": "markdown",
      "metadata": {
        "id": "JUmm5UkF6fPB"
      },
      "source": [
        "La documentation des API REST doit contenir certaines informations importantes:\n",
        "\n",
        "* L'authentification dont l'utilisateur a besoin pour effectuer des requêtes\n",
        "* Le chemin racine pour la version de l'API REST\n",
        "* Les methodes HTTP qui peuvent être utilisées pour chaque endpoint\n",
        "* Une explication sur les requêtes de données optionels et mandatoires\n",
        "* La signification de chaque code de status\n",
        "* Les données attendues pour chaque requête\n",
        "* Exemple de requêtes et de réponses\n",
        "* Un guide ou tutoriel pour commencer à utiliser et à naviguer sur l'API.  "
      ]
    },
    {
      "cell_type": "markdown",
      "metadata": {
        "id": "sj2UEfYm8y4Z"
      },
      "source": [
        ""
      ]
    }
  ]
}